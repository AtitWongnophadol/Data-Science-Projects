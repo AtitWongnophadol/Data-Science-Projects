{
 "cells": [
  {
   "cell_type": "markdown",
   "metadata": {},
   "source": [
    "## Atit Wongnophadol"
   ]
  },
  {
   "cell_type": "markdown",
   "metadata": {},
   "source": [
    "# A Simple Hash Table with Linear Probing\n",
    "\n",
    "In this exercise, your task is to implement a variant of a hash table.  Several simplifications will make this task easier.  First, your table will have a fixed size; it will not be capable of expanding to fit more data.  Your table will only accept strings as keys, though values may be any Python object.  Finally, you will use linear probing to resolve collisions.\n",
    "\n",
    "Create a class, MyTable, with the following properties:\n",
    "\n",
    "**Table:**  Your table will have a fixed size, which you should pass in as a parameter to the initializer.  Specifically, you should create a list to store keys (named keys) and a list to store values (named values).  All items in these lists should initially be set to the object None.\n",
    "\n",
    "**Keys and Values:** The keys to your table will be strings.  Values may be any python object.\n",
    "\n",
    "**Hashcode:**  Your class should convert each character in a key to its unicode code point (use python’s ord function) and then simply sum them together.\n",
    "\n",
    "**Compression function:**  To ensure the results of your hashcode falls in the right range, use the mod operator (%) with the size of the hash table.\n",
    "\n",
    "**Collision resolution:**  You will use linear probing to resolve collisions.  If a particular location in the table is filled, you move forward one space until an empty location is found.  If you reach the end of the table, you cycle back to index 0.\n",
    "\n",
    "**Deletions:** As with any open addressing system, deletions must be executed with care.  Finding one item A may rely on the fact that item B was in a particular location when A was inserted.  To get around this problem, you should store three types of objects in your list of keys.  The object None indicates that a space has never been used.  The special string “deleted” indicates that the space was used before but is now available.  All other strings represent keys that have been stored in the table.\n",
    "\n",
    "\n",
    "\n",
    "Inside your MyTable class, you must implement the following methods:\n",
    "\n",
    "- \\_\\_setitem\\_\\_(key, value) - insert the given key-value pair into the table.  If the given key is already in the table, replace the old value with the new value.\n",
    "\n",
    "- \\_\\_getitem\\_\\_(key) - get the value that corresponds to the given key in the table.  \n",
    "\n",
    "- \\_\\_delitem\\_\\_(key) - remove the given key and its corresponding value from the table.  Replace both with the special string “deleted”.\n",
    "\n",
    "Note that these are magic methods that should not be accessed directly, but will be called when indexing instances of your class with square brackets\n",
    "\n",
    "In case \\_\\_getitem\\_\\_ is called with a key that is not in the table, return the string. “Key not in table.”\n",
    "\n",
    "Additionally, you should only access your keys list one index at a time and avoid looping through all items in the list whenever possible.  This also means that you should not use operators like *in* that implicitely loop through all items in your list.\n",
    "\n",
    "\n",
    "The following code demonstrates the proper use of the MyTable class.  Make sure that your class replicates this behavior exactly.\n",
    "\n"
   ]
  },
  {
   "cell_type": "code",
   "execution_count": 1,
   "metadata": {},
   "outputs": [],
   "source": [
    "class MyTable():\n",
    "     \n",
    "    def __init__(self, size):\n",
    "        self._n = size\n",
    "        self.keys = size*[None]\n",
    "        self.values = size*[None]\n",
    "     \n",
    "    def __setitem__(self, k, v):\n",
    "        self._setvalue(k, v)\n",
    "    \n",
    "    def __getitem__(self, k):\n",
    "        return self._getvalue(k)\n",
    "    \n",
    "    def __delitem__(self, k):\n",
    "        self._delvalue(k)\n",
    "        \n",
    "    def _hash_function(self, k):\n",
    "        i = 0\n",
    "        hashed_k = 0\n",
    "        while i < len(k):\n",
    "            hashed_k+=ord(k[i])\n",
    "            i+=1\n",
    "        return hashed_k\n",
    "    \n",
    "    def _compression_function(self, k):\n",
    "        return k%self._n\n",
    "    \n",
    "    def _collision_solution(self, k):\n",
    "        return (k+1)%self._n\n",
    "   \n",
    "    def _setvalue(self, k, v): \n",
    "        \n",
    "        position = self._compression_function(self._hash_function(k))\n",
    "        \n",
    "        if self.keys[position] == None:\n",
    "            self.keys[position] = k\n",
    "            self.values[position] = v\n",
    "        else:\n",
    "            if self.keys[position] == k:\n",
    "                self.values[position] = v  #replace\n",
    "            else:\n",
    "                position = self._collision_solution(position)\n",
    "                while self.keys[position] != None and self.keys[position] != k:\n",
    "                    position = self._collision_solution(position)\n",
    "                if self.keys[position] == None:\n",
    "                    self.keys[position] = k\n",
    "                    self.values[position] = v\n",
    "                else:\n",
    "                    self.values[position] = v\n",
    "     \n",
    "    def _getvalue(self, k):\n",
    "        \n",
    "        initial_position = self._compression_function(self._hash_function(k))\n",
    "        \n",
    "        value = None\n",
    "        stop = False\n",
    "        found = False\n",
    "        position = initial_position\n",
    "        while self.keys[position] != None and not found and not stop:\n",
    "            if self.keys[position] == k:\n",
    "                found = True\n",
    "                value = self.values[position]\n",
    "            else:\n",
    "                position=self._collision_solution(position)\n",
    "                if position == initial_position:\n",
    "                    stop = True\n",
    " \n",
    "        if value is None:\n",
    "            return \"Key not in table\"\n",
    "        else:\n",
    "            return value\n",
    "    \n",
    "    def _delvalue(self, k):\n",
    "        \n",
    "        initial_position = self._compression_function(self._hash_function(k))\n",
    "        \n",
    "        stop = False\n",
    "        found = False\n",
    "        position = initial_position\n",
    "        while self.keys[position] != None and not found and not stop:\n",
    "            if self.keys[position] == k:\n",
    "                found = True\n",
    "                self.keys[position] = \"deleted\"\n",
    "                self.values[position] = \"deleted\"\n",
    "            else:\n",
    "                position=self._collision_solution(position)\n",
    "                if position == initial_position:\n",
    "                    stop = True"
   ]
  },
  {
   "cell_type": "code",
   "execution_count": 2,
   "metadata": {},
   "outputs": [
    {
     "name": "stdout",
     "output_type": "stream",
     "text": [
      "Current keys in m: [None, None, 'a', 'f', 'k']\n"
     ]
    }
   ],
   "source": [
    "m = MyTable(5)\n",
    "# The following keys all hash to the same index.\n",
    "m[\"a\"] = \"apple\"\n",
    "m[\"f\"] = \"butter\" \n",
    "m[\"k\"] = \"yummy\"\n",
    "print(\"Current keys in m:\", m.keys)"
   ]
  },
  {
   "cell_type": "code",
   "execution_count": 3,
   "metadata": {},
   "outputs": [
    {
     "name": "stdout",
     "output_type": "stream",
     "text": [
      "m['p']: Key not in table\n"
     ]
    }
   ],
   "source": [
    "# \"p\" also hashes to the same place.\n",
    "# Your class should detect that it's not in the table\n",
    "# without scanning through the entire keys list.\n",
    "print(\"m['p']:\", m[\"p\"])"
   ]
  },
  {
   "cell_type": "code",
   "execution_count": 4,
   "metadata": {},
   "outputs": [
    {
     "name": "stdout",
     "output_type": "stream",
     "text": [
      "m['k']: yummy\n",
      "m['k']: yummy\n",
      "Current keys in m: [None, None, 'a', 'deleted', 'k']\n"
     ]
    }
   ],
   "source": [
    "# We can access key \"k\"\n",
    "print(\"m['k']:\", m[\"k\"])\n",
    "# Even if we remove \"f\"\n",
    "del m[\"f\"]\n",
    "print(\"m['k']:\", m[\"k\"])\n",
    "print(\"Current keys in m:\", m.keys)"
   ]
  },
  {
   "cell_type": "code",
   "execution_count": 7,
   "metadata": {},
   "outputs": [
    {
     "name": "stdout",
     "output_type": "stream",
     "text": [
      "Current keys in m: [None, None, 'a', 'deleted', 'k']\n",
      "Current values in m: [None, None, 'apple', 'deleted', 'newstuff']\n"
     ]
    }
   ],
   "source": [
    "# Even after removing \"f\", we can overwrite \"k\"\n",
    "m[\"k\"] = \"newstuff\"\n",
    "print(\"Current keys in m:\", m.keys)\n",
    "print(\"Current values in m:\", m.values)"
   ]
  }
 ],
 "metadata": {
  "kernelspec": {
   "display_name": "Python 3",
   "language": "python",
   "name": "python3"
  },
  "language_info": {
   "codemirror_mode": {
    "name": "ipython",
    "version": 3
   },
   "file_extension": ".py",
   "mimetype": "text/x-python",
   "name": "python",
   "nbconvert_exporter": "python",
   "pygments_lexer": "ipython3",
   "version": "3.6.5"
  }
 },
 "nbformat": 4,
 "nbformat_minor": 1
}
